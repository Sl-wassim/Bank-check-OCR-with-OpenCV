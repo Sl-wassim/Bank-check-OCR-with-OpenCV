{
 "cells": [
  {
   "cell_type": "code",
   "execution_count": 2,
   "metadata": {},
   "outputs": [
    {
     "name": "stdout",
     "output_type": "stream",
     "text": [
      "Collecting git+https://github.com/Joeclinton1/google-images-download.git\n",
      "  Cloning https://github.com/Joeclinton1/google-images-download.git to c:\\users\\sl-was~1\\appdata\\local\\temp\\pip-req-build-irwdyv6y\n",
      "Requirement already satisfied: selenium in c:\\users\\sl-wassim\\anaconda3\\envs\\pythongpu\\lib\\site-packages (from google-images-download==2.8.0) (3.141.0)\n",
      "Requirement already satisfied: urllib3 in c:\\users\\sl-wassim\\anaconda3\\envs\\pythongpu\\lib\\site-packages (from selenium->google-images-download==2.8.0) (1.25.8)\n",
      "Building wheels for collected packages: google-images-download\n",
      "  Building wheel for google-images-download (setup.py): started\n",
      "  Building wheel for google-images-download (setup.py): finished with status 'done'\n",
      "  Created wheel for google-images-download: filename=google_images_download-2.8.0-py2.py3-none-any.whl size=15654 sha256=a16a0c6699c38d3c3a836c89670a04fdc5aa66e5398b615f9feafe18768cf54b\n",
      "  Stored in directory: C:\\Users\\SL-WAS~1\\AppData\\Local\\Temp\\pip-ephem-wheel-cache-svxz4he1\\wheels\\79\\5c\\d2\\2569a4f55ff29b3c4d6b1114d5110a70a79afbf381e6eb3e87\n",
      "Successfully built google-images-download\n",
      "Installing collected packages: google-images-download\n",
      "Successfully installed google-images-download-2.8.0\n"
     ]
    },
    {
     "name": "stderr",
     "output_type": "stream",
     "text": [
      "  Running command git clone -q https://github.com/Joeclinton1/google-images-download.git 'C:\\Users\\SL-WAS~1\\AppData\\Local\\Temp\\pip-req-build-irwdyv6y'\n"
     ]
    }
   ],
   "source": [
    "! pip install git+https://github.com/Joeclinton1/google-images-download.git "
   ]
  },
  {
   "cell_type": "code",
   "execution_count": null,
   "metadata": {},
   "outputs": [
    {
     "name": "stdout",
     "output_type": "stream",
     "text": [
      "\n",
      "Item no.: 1 --> Item name = cheque\n",
      "Evaluating...\n",
      "Getting you a lot of images. This may take a few moments...\n",
      "Reached end of Page.\n",
      "Starting Download...\n",
      "Image URL: http://104.211.10.181:8080/helpfiles/lpfhlpfr/Content/images/Compensation%20de%20ch%C3%A8que%20-%201.bmp\n",
      "Completed Image ====> 1.compensation%20de%20ch%c3%a8que%20-%201.bmp\n",
      "Image URL: http://104.211.10.181:8080/helpfiles/lpfhlpfr/Content/images/Virer%20le%20paiement%20par%20ch%C3%A8que_834x365.bmp\n",
      "Completed Image ====> 2.virer%20le%20paiement%20par%20ch%c3%a8que_834x365.bmp\n",
      "Image URL: https://img.webme.com/pic/f/financeszaagkamel/e.bmp\n",
      "Invalid image format 'image/x-ms-bmp'. Skipping...\n",
      "Image URL: http://104.211.10.181:8080/helpfiles/lpfhlpfr/Content/images/Arr%C3%AAter%20le%20ch%C3%A8que_755x367.bmp\n",
      "Completed Image ====> 3.arr%c3%aater%20le%20ch%c3%a8que_755x367.bmp\n",
      "Image URL: http://www.ysabeille.com/wp-content/uploads/2011/12/ch%C3%A8que.bmp\n"
     ]
    }
   ],
   "source": [
    "from google_images_download import google_images_download   #importing the library\n",
    "\n",
    "response = google_images_download.googleimagesdownload()   #class instantiation\n",
    "\n",
    "arguments = {\"keywords\":\"cheque\",\"limit\":500,\"format\":\"bmp\",\"print_urls\":True,\"chromedriver\":'E://chromedriver.exe'}   #creating list of arguments\n",
    "paths = response.download(arguments)   #passing the arguments to the function\n",
    "print(paths) "
   ]
  }
 ],
 "metadata": {
  "kernelspec": {
   "display_name": "Python 3",
   "language": "python",
   "name": "python3"
  },
  "language_info": {
   "codemirror_mode": {
    "name": "ipython",
    "version": 3
   },
   "file_extension": ".py",
   "mimetype": "text/x-python",
   "name": "python",
   "nbconvert_exporter": "python",
   "pygments_lexer": "ipython3",
   "version": "3.7.4"
  }
 },
 "nbformat": 4,
 "nbformat_minor": 4
}
